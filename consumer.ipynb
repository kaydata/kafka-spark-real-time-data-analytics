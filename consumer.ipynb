{
 "cells": [
  {
   "cell_type": "code",
   "execution_count": 1,
   "metadata": {},
   "outputs": [],
   "source": [
    "from kafka import KafkaConsumer\n",
    "import json"
   ]
  },
  {
   "cell_type": "code",
   "execution_count": 2,
   "metadata": {},
   "outputs": [],
   "source": [
    "consumer = KafkaConsumer(\n",
    "    'trips_data',\n",
    "    bootstrap_servers=['localhost:9092'],\n",
    "    auto_offset_reset='earliest',  # Start reading at the earliest message\n",
    "    enable_auto_commit=True,       # Automatically commit the offsets\n",
    "    group_id='my-group',           # Consumer group ID\n",
    "    value_deserializer=lambda x: json.loads(x.decode('utf-8'))\n",
    ")\n"
   ]
  },
  {
   "cell_type": "code",
   "execution_count": null,
   "metadata": {},
   "outputs": [],
   "source": []
  },
  {
   "cell_type": "code",
   "execution_count": 3,
   "metadata": {},
   "outputs": [
    {
     "name": "stdout",
     "output_type": "stream",
     "text": [
      "Received message: {'VendorID': 2, 'tpep_pickup_datetime': '2024-01-10 22:54:47', 'tpep_dropoff_datetime': '2024-01-10 23:10:01', 'passenger_count': 1.0, 'trip_distance': 5.53, 'RatecodeID': 1.0, 'store_and_fwd_flag': 'N', 'PULocationID': 189, 'DOLocationID': 112, 'payment_type': 1, 'fare_amount': 24.7, 'extra': 1.0, 'mta_tax': 0.5, 'tip_amount': 5.44, 'tolls_amount': 0.0, 'improvement_surcharge': 1.0, 'total_amount': 32.64, 'congestion_surcharge': 0.0, 'Airport_fee': 0.0}\n",
      "Received message: {'VendorID': 2, 'tpep_pickup_datetime': '2024-01-21 11:48:59', 'tpep_dropoff_datetime': '2024-01-21 12:05:37', 'passenger_count': nan, 'trip_distance': 3.09, 'RatecodeID': nan, 'store_and_fwd_flag': None, 'PULocationID': 262, 'DOLocationID': 48, 'payment_type': 0, 'fare_amount': 18.89, 'extra': 0.0, 'mta_tax': 0.5, 'tip_amount': 0.0, 'tolls_amount': 0.0, 'improvement_surcharge': 1.0, 'total_amount': 22.89, 'congestion_surcharge': nan, 'Airport_fee': nan}\n",
      "Received message: {'VendorID': 2, 'tpep_pickup_datetime': '2024-01-11 09:20:33', 'tpep_dropoff_datetime': '2024-01-11 09:26:44', 'passenger_count': 1.0, 'trip_distance': 0.72, 'RatecodeID': 1.0, 'store_and_fwd_flag': 'N', 'PULocationID': 229, 'DOLocationID': 162, 'payment_type': 1, 'fare_amount': 7.2, 'extra': 0.0, 'mta_tax': 0.5, 'tip_amount': 2.24, 'tolls_amount': 0.0, 'improvement_surcharge': 1.0, 'total_amount': 13.44, 'congestion_surcharge': 2.5, 'Airport_fee': 0.0}\n",
      "Received message: {'VendorID': 2, 'tpep_pickup_datetime': '2024-01-03 14:04:29', 'tpep_dropoff_datetime': '2024-01-03 14:21:28', 'passenger_count': 1.0, 'trip_distance': 4.66, 'RatecodeID': 1.0, 'store_and_fwd_flag': 'N', 'PULocationID': 209, 'DOLocationID': 233, 'payment_type': 1, 'fare_amount': 24.7, 'extra': 0.0, 'mta_tax': 0.5, 'tip_amount': 3.0, 'tolls_amount': 0.0, 'improvement_surcharge': 1.0, 'total_amount': 31.7, 'congestion_surcharge': 2.5, 'Airport_fee': 0.0}\n",
      "Received message: {'VendorID': 2, 'tpep_pickup_datetime': '2024-01-17 16:41:43', 'tpep_dropoff_datetime': '2024-01-17 16:56:57', 'passenger_count': 1.0, 'trip_distance': 2.65, 'RatecodeID': 1.0, 'store_and_fwd_flag': 'N', 'PULocationID': 238, 'DOLocationID': 74, 'payment_type': 1, 'fare_amount': 15.6, 'extra': 2.5, 'mta_tax': 0.5, 'tip_amount': 1.96, 'tolls_amount': 0.0, 'improvement_surcharge': 1.0, 'total_amount': 21.56, 'congestion_surcharge': 0.0, 'Airport_fee': 0.0}\n",
      "Received message: {'VendorID': 2, 'tpep_pickup_datetime': '2024-01-27 02:23:24', 'tpep_dropoff_datetime': '2024-01-27 02:37:53', 'passenger_count': nan, 'trip_distance': 2.06, 'RatecodeID': nan, 'store_and_fwd_flag': None, 'PULocationID': 79, 'DOLocationID': 68, 'payment_type': 0, 'fare_amount': 12.65, 'extra': 0.0, 'mta_tax': 0.5, 'tip_amount': 0.0, 'tolls_amount': 0.0, 'improvement_surcharge': 1.0, 'total_amount': 16.65, 'congestion_surcharge': nan, 'Airport_fee': nan}\n",
      "Received message: {'VendorID': 2, 'tpep_pickup_datetime': '2024-01-13 21:04:44', 'tpep_dropoff_datetime': '2024-01-13 21:14:09', 'passenger_count': 4.0, 'trip_distance': 1.64, 'RatecodeID': 1.0, 'store_and_fwd_flag': 'N', 'PULocationID': 161, 'DOLocationID': 239, 'payment_type': 1, 'fare_amount': 10.7, 'extra': 1.0, 'mta_tax': 0.5, 'tip_amount': 3.14, 'tolls_amount': 0.0, 'improvement_surcharge': 1.0, 'total_amount': 18.84, 'congestion_surcharge': 2.5, 'Airport_fee': 0.0}\n",
      "Received message: {'VendorID': 2, 'tpep_pickup_datetime': '2024-01-08 18:18:55', 'tpep_dropoff_datetime': '2024-01-08 18:23:54', 'passenger_count': 2.0, 'trip_distance': 0.6, 'RatecodeID': 1.0, 'store_and_fwd_flag': 'N', 'PULocationID': 237, 'DOLocationID': 229, 'payment_type': 1, 'fare_amount': 6.5, 'extra': 2.5, 'mta_tax': 0.5, 'tip_amount': 2.6, 'tolls_amount': 0.0, 'improvement_surcharge': 1.0, 'total_amount': 15.6, 'congestion_surcharge': 2.5, 'Airport_fee': 0.0}\n",
      "Received message: {'VendorID': 2, 'tpep_pickup_datetime': '2024-01-17 19:58:11', 'tpep_dropoff_datetime': '2024-01-17 20:10:00', 'passenger_count': 1.0, 'trip_distance': 2.97, 'RatecodeID': 1.0, 'store_and_fwd_flag': 'N', 'PULocationID': 163, 'DOLocationID': 151, 'payment_type': 1, 'fare_amount': 15.6, 'extra': 2.5, 'mta_tax': 0.5, 'tip_amount': 3.5, 'tolls_amount': 0.0, 'improvement_surcharge': 1.0, 'total_amount': 25.6, 'congestion_surcharge': 2.5, 'Airport_fee': 0.0}\n",
      "Received message: {'VendorID': 2, 'tpep_pickup_datetime': '2024-01-06 17:42:37', 'tpep_dropoff_datetime': '2024-01-06 18:16:43', 'passenger_count': 3.0, 'trip_distance': 4.19, 'RatecodeID': 1.0, 'store_and_fwd_flag': 'N', 'PULocationID': 261, 'DOLocationID': 230, 'payment_type': 1, 'fare_amount': 29.6, 'extra': 0.0, 'mta_tax': 0.5, 'tip_amount': 0.0, 'tolls_amount': 0.0, 'improvement_surcharge': 1.0, 'total_amount': 33.6, 'congestion_surcharge': 2.5, 'Airport_fee': 0.0}\n",
      "Received message: {'VendorID': 2, 'tpep_pickup_datetime': '2024-01-01 22:22:36', 'tpep_dropoff_datetime': '2024-01-01 22:45:40', 'passenger_count': 1.0, 'trip_distance': 19.13, 'RatecodeID': 2.0, 'store_and_fwd_flag': 'N', 'PULocationID': 132, 'DOLocationID': 244, 'payment_type': 1, 'fare_amount': 70.0, 'extra': 0.0, 'mta_tax': 0.5, 'tip_amount': 11.77, 'tolls_amount': 6.94, 'improvement_surcharge': 1.0, 'total_amount': 90.21, 'congestion_surcharge': 0.0, 'Airport_fee': 0.0}\n"
     ]
    },
    {
     "ename": "KeyboardInterrupt",
     "evalue": "",
     "output_type": "error",
     "traceback": [
      "\u001b[0;31m---------------------------------------------------------------------------\u001b[0m",
      "\u001b[0;31mKeyboardInterrupt\u001b[0m                         Traceback (most recent call last)",
      "Cell \u001b[0;32mIn[3], line 2\u001b[0m\n\u001b[1;32m      1\u001b[0m \u001b[38;5;28;01mwhile\u001b[39;00m \u001b[38;5;28;01mTrue\u001b[39;00m:\n\u001b[0;32m----> 2\u001b[0m     \u001b[38;5;28;01mfor\u001b[39;00m message \u001b[38;5;129;01min\u001b[39;00m consumer:\n\u001b[1;32m      3\u001b[0m         \u001b[38;5;28mprint\u001b[39m(\u001b[38;5;124mf\u001b[39m\u001b[38;5;124m'\u001b[39m\u001b[38;5;124mReceived message: \u001b[39m\u001b[38;5;132;01m{\u001b[39;00mmessage\u001b[38;5;241m.\u001b[39mvalue\u001b[38;5;132;01m}\u001b[39;00m\u001b[38;5;124m'\u001b[39m)\n",
      "File \u001b[0;32m/opt/anaconda3/lib/python3.12/site-packages/kafka/consumer/group.py:1203\u001b[0m, in \u001b[0;36mKafkaConsumer.__next__\u001b[0;34m(self)\u001b[0m\n\u001b[1;32m   1201\u001b[0m     \u001b[38;5;28;01mreturn\u001b[39;00m \u001b[38;5;28mself\u001b[39m\u001b[38;5;241m.\u001b[39mnext_v1()\n\u001b[1;32m   1202\u001b[0m \u001b[38;5;28;01melse\u001b[39;00m:\n\u001b[0;32m-> 1203\u001b[0m     \u001b[38;5;28;01mreturn\u001b[39;00m \u001b[38;5;28mself\u001b[39m\u001b[38;5;241m.\u001b[39mnext_v2()\n",
      "File \u001b[0;32m/opt/anaconda3/lib/python3.12/site-packages/kafka/consumer/group.py:1211\u001b[0m, in \u001b[0;36mKafkaConsumer.next_v2\u001b[0;34m(self)\u001b[0m\n\u001b[1;32m   1209\u001b[0m     \u001b[38;5;28mself\u001b[39m\u001b[38;5;241m.\u001b[39m_iterator \u001b[38;5;241m=\u001b[39m \u001b[38;5;28mself\u001b[39m\u001b[38;5;241m.\u001b[39m_message_generator_v2()\n\u001b[1;32m   1210\u001b[0m \u001b[38;5;28;01mtry\u001b[39;00m:\n\u001b[0;32m-> 1211\u001b[0m     \u001b[38;5;28;01mreturn\u001b[39;00m \u001b[38;5;28mnext\u001b[39m(\u001b[38;5;28mself\u001b[39m\u001b[38;5;241m.\u001b[39m_iterator)\n\u001b[1;32m   1212\u001b[0m \u001b[38;5;28;01mexcept\u001b[39;00m \u001b[38;5;167;01mStopIteration\u001b[39;00m:\n\u001b[1;32m   1213\u001b[0m     \u001b[38;5;28mself\u001b[39m\u001b[38;5;241m.\u001b[39m_iterator \u001b[38;5;241m=\u001b[39m \u001b[38;5;28;01mNone\u001b[39;00m\n",
      "File \u001b[0;32m/opt/anaconda3/lib/python3.12/site-packages/kafka/consumer/group.py:1126\u001b[0m, in \u001b[0;36mKafkaConsumer._message_generator_v2\u001b[0;34m(self)\u001b[0m\n\u001b[1;32m   1124\u001b[0m \u001b[38;5;28;01mdef\u001b[39;00m \u001b[38;5;21m_message_generator_v2\u001b[39m(\u001b[38;5;28mself\u001b[39m):\n\u001b[1;32m   1125\u001b[0m     timeout_ms \u001b[38;5;241m=\u001b[39m \u001b[38;5;241m1000\u001b[39m \u001b[38;5;241m*\u001b[39m (\u001b[38;5;28mself\u001b[39m\u001b[38;5;241m.\u001b[39m_consumer_timeout \u001b[38;5;241m-\u001b[39m time\u001b[38;5;241m.\u001b[39mtime())\n\u001b[0;32m-> 1126\u001b[0m     record_map \u001b[38;5;241m=\u001b[39m \u001b[38;5;28mself\u001b[39m\u001b[38;5;241m.\u001b[39mpoll(timeout_ms\u001b[38;5;241m=\u001b[39mtimeout_ms, update_offsets\u001b[38;5;241m=\u001b[39m\u001b[38;5;28;01mFalse\u001b[39;00m)\n\u001b[1;32m   1127\u001b[0m     \u001b[38;5;28;01mfor\u001b[39;00m tp, records \u001b[38;5;129;01min\u001b[39;00m record_map\u001b[38;5;241m.\u001b[39mitems():\n\u001b[1;32m   1128\u001b[0m         \u001b[38;5;66;03m# Generators are stateful, and it is possible that the tp / records\u001b[39;00m\n\u001b[1;32m   1129\u001b[0m         \u001b[38;5;66;03m# here may become stale during iteration -- i.e., we seek to a\u001b[39;00m\n\u001b[1;32m   1130\u001b[0m         \u001b[38;5;66;03m# different offset, pause consumption, or lose assignment.\u001b[39;00m\n\u001b[1;32m   1131\u001b[0m         \u001b[38;5;28;01mfor\u001b[39;00m record \u001b[38;5;129;01min\u001b[39;00m records:\n\u001b[1;32m   1132\u001b[0m             \u001b[38;5;66;03m# is_fetchable(tp) should handle assignment changes and offset\u001b[39;00m\n\u001b[1;32m   1133\u001b[0m             \u001b[38;5;66;03m# resets; for all other changes (e.g., seeks) we'll rely on the\u001b[39;00m\n\u001b[1;32m   1134\u001b[0m             \u001b[38;5;66;03m# outer function destroying the existing iterator/generator\u001b[39;00m\n\u001b[1;32m   1135\u001b[0m             \u001b[38;5;66;03m# via self._iterator = None\u001b[39;00m\n",
      "File \u001b[0;32m/opt/anaconda3/lib/python3.12/site-packages/kafka/consumer/group.py:663\u001b[0m, in \u001b[0;36mKafkaConsumer.poll\u001b[0;34m(self, timeout_ms, max_records, update_offsets)\u001b[0m\n\u001b[1;32m    661\u001b[0m remaining \u001b[38;5;241m=\u001b[39m timeout_ms\n\u001b[1;32m    662\u001b[0m \u001b[38;5;28;01mwhile\u001b[39;00m \u001b[38;5;129;01mnot\u001b[39;00m \u001b[38;5;28mself\u001b[39m\u001b[38;5;241m.\u001b[39m_closed:\n\u001b[0;32m--> 663\u001b[0m     records \u001b[38;5;241m=\u001b[39m \u001b[38;5;28mself\u001b[39m\u001b[38;5;241m.\u001b[39m_poll_once(remaining, max_records, update_offsets\u001b[38;5;241m=\u001b[39mupdate_offsets)\n\u001b[1;32m    664\u001b[0m     \u001b[38;5;28;01mif\u001b[39;00m records:\n\u001b[1;32m    665\u001b[0m         \u001b[38;5;28;01mreturn\u001b[39;00m records\n",
      "File \u001b[0;32m/opt/anaconda3/lib/python3.12/site-packages/kafka/consumer/group.py:712\u001b[0m, in \u001b[0;36mKafkaConsumer._poll_once\u001b[0;34m(self, timeout_ms, max_records, update_offsets)\u001b[0m\n\u001b[1;32m    709\u001b[0m     \u001b[38;5;28mself\u001b[39m\u001b[38;5;241m.\u001b[39m_client\u001b[38;5;241m.\u001b[39mpoll(timeout_ms\u001b[38;5;241m=\u001b[39m\u001b[38;5;241m0\u001b[39m)\n\u001b[1;32m    711\u001b[0m timeout_ms \u001b[38;5;241m=\u001b[39m \u001b[38;5;28mmin\u001b[39m(timeout_ms, \u001b[38;5;28mself\u001b[39m\u001b[38;5;241m.\u001b[39m_coordinator\u001b[38;5;241m.\u001b[39mtime_to_next_poll() \u001b[38;5;241m*\u001b[39m \u001b[38;5;241m1000\u001b[39m)\n\u001b[0;32m--> 712\u001b[0m \u001b[38;5;28mself\u001b[39m\u001b[38;5;241m.\u001b[39m_client\u001b[38;5;241m.\u001b[39mpoll(timeout_ms\u001b[38;5;241m=\u001b[39mtimeout_ms)\n\u001b[1;32m    713\u001b[0m \u001b[38;5;66;03m# after the long poll, we should check whether the group needs to rebalance\u001b[39;00m\n\u001b[1;32m    714\u001b[0m \u001b[38;5;66;03m# prior to returning data so that the group can stabilize faster\u001b[39;00m\n\u001b[1;32m    715\u001b[0m \u001b[38;5;28;01mif\u001b[39;00m \u001b[38;5;28mself\u001b[39m\u001b[38;5;241m.\u001b[39m_coordinator\u001b[38;5;241m.\u001b[39mneed_rejoin():\n",
      "File \u001b[0;32m/opt/anaconda3/lib/python3.12/site-packages/kafka/client_async.py:601\u001b[0m, in \u001b[0;36mKafkaClient.poll\u001b[0;34m(self, timeout_ms, future)\u001b[0m\n\u001b[1;32m    598\u001b[0m             timeout \u001b[38;5;241m=\u001b[39m \u001b[38;5;28mmin\u001b[39m(timeout, \u001b[38;5;28mself\u001b[39m\u001b[38;5;241m.\u001b[39mconfig[\u001b[38;5;124m'\u001b[39m\u001b[38;5;124mretry_backoff_ms\u001b[39m\u001b[38;5;124m'\u001b[39m])\n\u001b[1;32m    599\u001b[0m         timeout \u001b[38;5;241m=\u001b[39m \u001b[38;5;28mmax\u001b[39m(\u001b[38;5;241m0\u001b[39m, timeout)  \u001b[38;5;66;03m# avoid negative timeouts\u001b[39;00m\n\u001b[0;32m--> 601\u001b[0m     \u001b[38;5;28mself\u001b[39m\u001b[38;5;241m.\u001b[39m_poll(timeout \u001b[38;5;241m/\u001b[39m \u001b[38;5;241m1000\u001b[39m)\n\u001b[1;32m    603\u001b[0m \u001b[38;5;66;03m# called without the lock to avoid deadlock potential\u001b[39;00m\n\u001b[1;32m    604\u001b[0m \u001b[38;5;66;03m# if handlers need to acquire locks\u001b[39;00m\n\u001b[1;32m    605\u001b[0m responses\u001b[38;5;241m.\u001b[39mextend(\u001b[38;5;28mself\u001b[39m\u001b[38;5;241m.\u001b[39m_fire_pending_completed_requests())\n",
      "File \u001b[0;32m/opt/anaconda3/lib/python3.12/site-packages/kafka/client_async.py:633\u001b[0m, in \u001b[0;36mKafkaClient._poll\u001b[0;34m(self, timeout)\u001b[0m\n\u001b[1;32m    630\u001b[0m \u001b[38;5;28mself\u001b[39m\u001b[38;5;241m.\u001b[39m_register_send_sockets()\n\u001b[1;32m    632\u001b[0m start_select \u001b[38;5;241m=\u001b[39m time\u001b[38;5;241m.\u001b[39mtime()\n\u001b[0;32m--> 633\u001b[0m ready \u001b[38;5;241m=\u001b[39m \u001b[38;5;28mself\u001b[39m\u001b[38;5;241m.\u001b[39m_selector\u001b[38;5;241m.\u001b[39mselect(timeout)\n\u001b[1;32m    634\u001b[0m end_select \u001b[38;5;241m=\u001b[39m time\u001b[38;5;241m.\u001b[39mtime()\n\u001b[1;32m    635\u001b[0m \u001b[38;5;28;01mif\u001b[39;00m \u001b[38;5;28mself\u001b[39m\u001b[38;5;241m.\u001b[39m_sensors:\n",
      "File \u001b[0;32m/opt/anaconda3/lib/python3.12/selectors.py:566\u001b[0m, in \u001b[0;36mKqueueSelector.select\u001b[0;34m(self, timeout)\u001b[0m\n\u001b[1;32m    564\u001b[0m ready \u001b[38;5;241m=\u001b[39m []\n\u001b[1;32m    565\u001b[0m \u001b[38;5;28;01mtry\u001b[39;00m:\n\u001b[0;32m--> 566\u001b[0m     kev_list \u001b[38;5;241m=\u001b[39m \u001b[38;5;28mself\u001b[39m\u001b[38;5;241m.\u001b[39m_selector\u001b[38;5;241m.\u001b[39mcontrol(\u001b[38;5;28;01mNone\u001b[39;00m, max_ev, timeout)\n\u001b[1;32m    567\u001b[0m \u001b[38;5;28;01mexcept\u001b[39;00m \u001b[38;5;167;01mInterruptedError\u001b[39;00m:\n\u001b[1;32m    568\u001b[0m     \u001b[38;5;28;01mreturn\u001b[39;00m ready\n",
      "\u001b[0;31mKeyboardInterrupt\u001b[0m: "
     ]
    }
   ],
   "source": [
    "while True:\n",
    "    for message in consumer:\n",
    "        print(f'Received message: {message.value}')"
   ]
  }
 ],
 "metadata": {
  "kernelspec": {
   "display_name": "base",
   "language": "python",
   "name": "python3"
  },
  "language_info": {
   "codemirror_mode": {
    "name": "ipython",
    "version": 3
   },
   "file_extension": ".py",
   "mimetype": "text/x-python",
   "name": "python",
   "nbconvert_exporter": "python",
   "pygments_lexer": "ipython3",
   "version": "3.12.2"
  }
 },
 "nbformat": 4,
 "nbformat_minor": 2
}
